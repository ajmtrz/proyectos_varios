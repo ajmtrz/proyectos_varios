{
 "cells": [
  {
   "cell_type": "code",
   "execution_count": 34,
   "metadata": {},
   "outputs": [],
   "source": [
    "import numpy as np\n",
    "import pandas as pd"
   ]
  },
  {
   "cell_type": "code",
   "execution_count": 35,
   "metadata": {},
   "outputs": [],
   "source": [
    "def MV_criterion(weights, df):\n",
    "    \"\"\"\n",
    "    Ountput:\n",
    "        optimización del criterio (media-varianza) de la cartera\n",
    "    Inputs:\n",
    "        weights(type ndarray numpy): Pesos de la cartera\n",
    "        df(type ndarray numpy): Retornos de los activos\n",
    "    \"\"\"\n",
    "    # Parámetros\n",
    "    Lambda = 0\n",
    "    W = 1\n",
    "    Wbar = 1 + 0.25/100\n",
    "    # Calcular la rentabilidad de la cartera\n",
    "    portfolio_return = np.multiply(df, np.transpose(weights))\n",
    "    portfolio_return = portfolio_return.sum(axis=1)\n",
    "    # Calcular la media y la volatilidad de la cartera\n",
    "    mean = np.mean(portfolio_return, axis=0)\n",
    "    std = np.std(portfolio_return, axis=0)\n",
    "    # Calcular el criterio\n",
    "    criterion = (Wbar**(1-Lambda)/(1+Lambda)+\n",
    "                 Wbar**(-Lambda)*W*mean-\n",
    "                 Lambda/2*Wbar**(-1-Lambda)*\n",
    "                 W**2*std**2\n",
    "                 )\n",
    "    return -criterion"
   ]
  },
  {
   "cell_type": "code",
   "execution_count": 36,
   "metadata": {},
   "outputs": [],
   "source": [
    "def SK_criterion(weights, df):\n",
    "    \"\"\" \n",
    "    Output: \n",
    "        optimization porfolio criterion                                   \n",
    "    Inputs: \n",
    "        weight (type ndarray numpy): Wheight for portfolio               \n",
    "        data (type ndarray numpy): Returns of stocks                     \n",
    "    \"\"\"\n",
    "    # Parámetros\n",
    "    Lambda = 0\n",
    "    W = 1\n",
    "    Wbar = 1 + 0.25 / 100\n",
    "    # Calcular la rentabilidad de la cartera\n",
    "    portfolio_return = np.multiply(df, np.transpose(weights))\n",
    "    portfolio_return = portfolio_return.sum(axis=1)\n",
    "    # # Calcular la media, volatilidad, skew y la kurtosis de la cartera\n",
    "    mean = np.mean(portfolio_return, axis=0)\n",
    "    std = np.std(portfolio_return, axis=0)\n",
    "    skewness = skew(portfolio_return, 0)\n",
    "    kurt = kurtosis(portfolio_return, 0)\n",
    "    # Calcular el criterio\n",
    "    criterion = Wbar ** (1 - Lambda) / (1 + Lambda) + Wbar ** (-Lambda) \\\n",
    "    * W * mean - Lambda / 2 * Wbar ** (-1 - Lambda) * W ** 2 * std ** 2 \\\n",
    "    + Lambda * (Lambda + 1) / (6) * Wbar ** (-2 - Lambda) * W ** 3 * skewness \\\n",
    "    - Lambda * (Lambda + 1) * (Lambda + 2) / (24) * Wbar ** (-3 - Lambda) *\\\n",
    "     W ** 4 * kurt\n",
    "    \n",
    "    return -criterion"
   ]
  },
  {
   "cell_type": "code",
   "execution_count": 37,
   "metadata": {},
   "outputs": [],
   "source": [
    "def SR_criterion(weights, df):\n",
    "    \"\"\"\n",
    "    Ountput:\n",
    "        optimización del criterio (ratio de Sharpe) de la cartera\n",
    "    Inputs:\n",
    "        weights(type ndarray numpy): Pesos de la cartera\n",
    "        df(type ndarray numpy): Retornos de los activos\n",
    "    \"\"\"\n",
    "    # Calcular la rentabilidad de la cartera\n",
    "    portfolio_return = np.multiply(df, np.transpose(weights))\n",
    "    portfolio_return = portfolio_return.sum(axis=1)\n",
    "    # Calcular la media y la volatilidad de la cartera\n",
    "    mean = np.mean(portfolio_return, axis=0)\n",
    "    std=np.std(portfolio_return, axis=0)\n",
    "    # Calcular el opuesto al ratio de Sharpe\n",
    "    sharpe = mean / std\n",
    "    return -sharpe"
   ]
  },
  {
   "cell_type": "code",
   "execution_count": 38,
   "metadata": {},
   "outputs": [],
   "source": [
    "def SOR_criterion(weights, df):\n",
    "    \"\"\"\n",
    "    Ountput:\n",
    "        optimización del criterio (ratio de Sortino) de la cartera\n",
    "    Inputs:\n",
    "        weights(type ndarray numpy): Pesos de la cartera\n",
    "        df(type ndarray numpy): Retornos de los activos\n",
    "    \"\"\"\n",
    "    # Calcular la rentabilidad de la cartera\n",
    "    portfolio_return = np.multiply(df, np.transpose(weights))\n",
    "    portfolio_return = portfolio_return.sum(axis=1)\n",
    "    # Calcular la media y la volatilidad de la cartera\n",
    "    mean = np.mean(portfolio_return, axis=0)\n",
    "    std = np.std(portfolio_return[portfolio_return < 0], axis=0)\n",
    "    # Calcular el opuesto al ratio de Sortino\n",
    "    Sortino = mean / std\n",
    "    return -Sortino"
   ]
  }
 ],
 "metadata": {
  "kernelspec": {
   "display_name": "base",
   "language": "python",
   "name": "python3"
  },
  "language_info": {
   "codemirror_mode": {
    "name": "ipython",
    "version": 3
   },
   "file_extension": ".py",
   "mimetype": "text/x-python",
   "name": "python",
   "nbconvert_exporter": "python",
   "pygments_lexer": "ipython3",
   "version": "3.10.8"
  }
 },
 "nbformat": 4,
 "nbformat_minor": 2
}
