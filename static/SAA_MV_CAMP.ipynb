{
 "cells": [
  {
   "cell_type": "code",
   "execution_count": 3,
   "metadata": {},
   "outputs": [],
   "source": [
    "import datetime\n",
    "import pytz\n",
    "import numpy as np\n",
    "import pandas as pd\n",
    "import matplotlib.pyplot as plt\n",
    "import MetaTrader5 as mt5\n",
    "import yfinance as yf\n",
    "from scipy.optimize import minimize"
   ]
  },
  {
   "cell_type": "code",
   "execution_count": 4,
   "metadata": {},
   "outputs": [],
   "source": [
    "%run optimization_criterions.ipynb\n",
    "%run static_backtest_functions.ipynb"
   ]
  },
  {
   "cell_type": "code",
   "execution_count": null,
   "metadata": {},
   "outputs": [],
   "source": [
    "timezone = pytz.timezone(\"Europe/Paris\")\n",
    "time_from = datetime.datetime(2000, 1, 1, tzinfo = timezone)\n",
    "time_to = datetime.datetime.now(timezone) + datetime.timedelta(days=1)\n",
    "if mt5.initialize():\n",
    "    # Obtener portfolio\n",
    "    symbols = mt5.symbols_get()\n",
    "    list_tickers = [symbol.name for symbol in symbols if \"ETF\" in symbol.path]\n",
    "    database = [mt5.copy_rates_range(ticker, mt5.TIMEFRAME_D1, time_from, time_to) for ticker in list_tickers]\n",
    "    df_portfolio = pd.DataFrame()\n",
    "    for ticker, data in zip(list_tickers, database):\n",
    "        temp_df = pd.DataFrame(data['close'], index=data['time'], columns=[ticker])\n",
    "        df_portfolio = pd.concat([df_portfolio, temp_df], axis=1)\n",
    "    df_portfolio.index.names = ['time']\n",
    "    df_portfolio.index = pd.to_datetime(df_portfolio.index, unit='s')\n",
    "    df_portfolio = np.log(df_portfolio).diff().dropna()\n",
    "    # Obtener índice de referencia\n",
    "    data_index = mt5.copy_rates_range('SP500', mt5.TIMEFRAME_D1, df_portfolio.index[0], df_portfolio.index[-1])\n",
    "    df_index = pd.DataFrame(data_index['close'], index=data_index['time'], columns=['index'])\n",
    "    df_index = np.log(df_index).diff().dropna()\n",
    "    df_index.index.names = ['time']\n",
    "    df_index.index = pd.to_datetime(df_index.index, unit='s')\n",
    "    df_index = df_index.loc[df_portfolio.index[0]:df_portfolio.index[-1]]\n"
   ]
  },
  {
   "cell_type": "code",
   "execution_count": null,
   "metadata": {},
   "outputs": [],
   "source": [
    "# Encontrar el número de activos\n",
    "n = df_portfolio.shape[1]\n",
    "# Inicialización de los pesos\n",
    "x0=np.ones(n) / n\n",
    "# Restricciones del problema de optimización\n",
    "cons = [{'type': 'eq',\n",
    "         'fun': lambda x: sum(abs(x))-1}]\n",
    "# Establecer los límites\n",
    "Bounds = [(0, 1) for i in range(0, n)]\n",
    "# Resolución de los problemas de optimización\n",
    "res = minimize(SR_criterion, x0, \n",
    "                  method = 'SLSQP',\n",
    "                  args=(df_portfolio),\n",
    "                  bounds=Bounds,\n",
    "                  constraints=cons,\n",
    "                  options={'disp':True}\n",
    "                  )\n",
    "# De los activos seleccionados, selecciono los que más pesos tengan en la cartera\n",
    "df_weights = pd.DataFrame(res.x, index=list_tickers, columns=['Weights'])\n",
    "df_weights = df_weights.loc[(df_weights[\"Weights\"] > np.mean(df_weights[\"Weights\"].values))]\n",
    "# Reescalar\n",
    "df_weights[\"Weights\"] = df_weights[\"Weights\"] / df_weights[\"Weights\"].abs().sum()\n",
    "df_weights.plot(kind='bar')"
   ]
  },
  {
   "cell_type": "code",
   "execution_count": null,
   "metadata": {},
   "outputs": [],
   "source": [
    "# Visualización de la distribución sectorial\n",
    "tickers = yf.Tickers(df_weights.index.to_list())\n",
    "tickers_type = dict()\n",
    "for key, value in tickers.tickers.items():\n",
    "    tickers_type[key] = value.info['category']\n",
    "tickers_category = pd.DataFrame.from_dict(tickers_type, orient='index', columns=['category'])\n",
    "df_category_weight = pd.concat([tickers_category, df_weights], axis=1)\n",
    "df_category_weight.groupby('category').sum()['Weights'].plot(kind='pie', \n",
    "                                                             autopct='%1.1f%%', \n",
    "                                                             startangle=90, \n",
    "                                                             ylabel='')"
   ]
  },
  {
   "cell_type": "code",
   "execution_count": null,
   "metadata": {},
   "outputs": [],
   "source": [
    "# Cálculo de los valores CAMP de la cartera\n",
    "beta = beta_function(df_weights, df_portfolio, df_index)\n",
    "alpha = alpha_function(df_weights, df_portfolio, df_index)\n",
    "# Visualización del rendimiento\n",
    "df_port_rend = total_portfolio(df_weights, df_portfolio)\n",
    "df_port_index = pd.concat([df_port_rend, df_index], axis=1).cumsum(axis=0).multiply(100., axis=0).dropna()\n",
    "df_port_index.plot(\n",
    "    title=f\"Beta: {beta:.2f} | Alpha: {alpha:.2f}\",\n",
    "    ylabel=\"Retornos %\",\n",
    "    xlabel=\"Tiempo anualizado\")"
   ]
  },
  {
   "cell_type": "code",
   "execution_count": null,
   "metadata": {},
   "outputs": [],
   "source": [
    "# Todo en una sola función\n",
    "backtest_function(df_weights, df_portfolio, df_index)"
   ]
  },
  {
   "cell_type": "code",
   "execution_count": null,
   "metadata": {},
   "outputs": [],
   "source": []
  }
 ],
 "metadata": {
  "kernelspec": {
   "display_name": "base",
   "language": "python",
   "name": "python3"
  },
  "language_info": {
   "codemirror_mode": {
    "name": "ipython",
    "version": 3
   },
   "file_extension": ".py",
   "mimetype": "text/x-python",
   "name": "python",
   "nbconvert_exporter": "python",
   "pygments_lexer": "ipython3",
   "version": "3.10.14"
  }
 },
 "nbformat": 4,
 "nbformat_minor": 2
}
